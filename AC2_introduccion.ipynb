{
 "cells": [
  {
   "attachments": {},
   "cell_type": "markdown",
   "id": "33b4f99a",
   "metadata": {},
   "source": [
    "# IMEC2001 Herramientas Computacionales \n",
    "## Actividad Clase 2: Introducción\n",
    "### Fecha Límite Entrega (Bloque Neón): <font color=\"#FF5733\">15.50h de Marzo 31, 2023</font>\n",
    "\n",
    "Universidad de los Andes — Marzo 31, 2023.\n",
    "\n",
    "___\n",
    "### Tener en Cuenta\n",
    "La entrega de la **Actividad Clase 2** se puede realizar de dos maneras:\n",
    "1. Enviar vía Bloque Neón el archivo en Jupyter Notebook (extensión '.ipynb').\n",
    "2. Enviar vía Bloque Neón el archivo PDF del Jupyter Notebook.\n",
    "\n",
    "**Nota:** <font color=\"#FF5733\">El nombre del archivo debe ser: `AC2_NombreApellido.ipynb`.</font>\n",
    "\n",
    "---\n",
    "\n",
    "## TABLA DE CONTENIDO\n",
    "\n",
    "### Sección 1: Ejercicios [→](#section1)\n",
    "1. Asignación de Variables y Tipos de Datos [→](#exercise1)\n",
    "2. Operaciones Matemáticas [→](#exercise2)\n",
    "2. Matemática Básica en Python [→](#exercise3)\n",
    "3. Condicionales *If-Elseif-Else* [→](#exercise4)\n",
    "4. Iteradores y Condicionales [→](#exercise5)\n",
    "5. Funciones [→](#exercise6)\n",
    "___"
   ]
  },
  {
   "cell_type": "markdown",
   "id": "9db123bd",
   "metadata": {},
   "source": [
    "<a id=\"section1\"></a>\n",
    "# Sección 1: Ejercicios"
   ]
  },
  {
   "cell_type": "markdown",
   "id": "03ba3cf9",
   "metadata": {},
   "source": [
    "<a id=\"exercise1\"></a>\n",
    "## 1. Asignación de Variables y Tipos de Datos\n",
    "\n",
    "<div class=\"alert alert-block alert-warning\">\n",
    "    \n",
    "Realizar dos (2) asignaciones de cada tipo de dato:\n",
    "* String (`str`)\n",
    "* Integer (`int`)\n",
    "* Float (`float`)\n",
    "* Boolean (`bool`)\n",
    "* List (`list`)\n",
    "* Diccionario (`dict`)\n",
    "\n",
    "</div>\n",
    "\n",
    "___\n",
    "**Ejemplo** <br>\n",
    "<font color=\"#FF5733\">Output</font>\n",
    "```python\n",
    "palabra_1 = \"Hola\"\n",
    "\n",
    "num_1_in = 4\n",
    "\n",
    "num_1_fl = 10.5\n",
    "\n",
    "verdadero = True\n",
    "\n",
    "lista_4 = [\"Hola\", 1, 2.0, [\"mundo\"]] \n",
    "\n",
    "dic = {\"llave_1\": \"valor\",\n",
    "       \"llave_2\": 2,\n",
    "       \"llave_3\": 1.5,\n",
    "       \"llave_4\": ['4']}\n",
    "```\n",
    "___"
   ]
  },
  {
   "cell_type": "code",
   "execution_count": null,
   "id": "af458009",
   "metadata": {},
   "outputs": [],
   "source": [
    "palabra1 = \"Hola\"\n",
    "palabra2 = \"chao\"\n",
    "num_1_in = 2\n",
    "num_2_fl = 10.67\n",
    "booleano = True\n",
    "lista = [\"hola\",2,\"chao\",[\"1\",\"2\"]]\n",
    "diccionario = {\"Colombia\":\"Bogota\",\"Mexico\":\"Ciudad de mexico\",\"Argentina\":\"Buenos Aires\"}"
   ]
  },
  {
   "cell_type": "markdown",
   "id": "6f04f1e3",
   "metadata": {},
   "source": [
    "<a id=\"exercise2\"></a>\n",
    "## 2. Operaciones Matemáticas\n",
    "\n",
    "<div class=\"alert alert-block alert-warning\">\n",
    "    \n",
    "Escriba un programa que le pida al usuario que ingrese dos números, `x` y `y`, y calcule:\n",
    "\n",
    "$$\n",
    "\\frac{| x - y |}{x + y}\n",
    "$$ \n",
    "\n",
    "</div>\n",
    "\n",
    "<div class='alert alert-block alert-info'> \n",
    "\n",
    "<i class='fa fa-info-circle' aria-hidden='true'></i>\n",
    "Puede obtener más información para calcular el valor absoluto en Python dando clic [aquí](https://www.geeksforgeeks.org/abs-in-python/).\n",
    "</div>\n",
    "\n",
    "___\n",
    "**Ejemplo** <br>\n",
    "<font color=\"#FF5733\">Input</font>\n",
    "```python\n",
    "x = 10\n",
    "y = 5\n",
    "```\n",
    "<font color=\"#FF5733\">Output</font>\n",
    "```python\n",
    "resultado = 0.33\n",
    "```\n",
    "___"
   ]
  },
  {
   "cell_type": "code",
   "execution_count": 8,
   "id": "ffb18494",
   "metadata": {},
   "outputs": [
    {
     "name": "stdout",
     "output_type": "stream",
     "text": [
      "0.33\n"
     ]
    }
   ],
   "source": [
    "x=10\n",
    "y=5\n",
    "resultado=(abs(x-y))/(x+y)\n",
    "print(round(resultado,2))"
   ]
  },
  {
   "cell_type": "markdown",
   "id": "1b103853",
   "metadata": {},
   "source": [
    "<a id=\"exercise3\"></a>\n",
    "## 3. Matemática Básica en Python\n",
    "\n",
    "Se dan los siguientes datos para un cliente en un banco: nombre, saldo promedio y número de transacciones realizadas durante el mes. Se requiere calcular el interés devengado y el cargo por servicio.\n",
    "\n",
    "El interés se calcula de la siguiente manera: \n",
    "\n",
    "$$\n",
    "Interés = 3\\% · Saldo \\: Promedio\n",
    "$$\n",
    "\n",
    "El cargo por servicio se calcula así:\n",
    "\n",
    "$$\n",
    "Cargo \\: por \\: Servicio = 75/100 · Transacción\n",
    "$$\n",
    "\n",
    "<div class=\"alert alert-block alert-warning\">\n",
    "    \n",
    "Escriba un algoritmo que calcula el interés y el cargo por servicio a partir de los siguientes datos:\n",
    "> **Nombre:** Noel Kalicharan <br>\n",
    "> **Saldo Promedio:** 5550 <br>\n",
    "> **Número de Transacciones:** 7 <br>\n",
    "\n",
    "También, explore cómo hacer más dinámico el algoritmo a partir de entradas por teclado del nombre del cliente, el interés y el cargo por servicio. Para esto, use la función input().\n",
    "\n",
    "**Nota:** Las entradas por teclado *siempre* son tipo String (`str`), por tanto, si tenemos números (`int` o `float`), debemos transformarlos de la siguiente manera: `int(<entrada>)` o `float(<entrada>)`. \n",
    "\n",
    "</div>\n",
    "\n",
    "___\n",
    "**Ejemplo** <br>\n",
    "<font color=\"#FF5733\">Input</font>\n",
    "```python\n",
    "nombre = \"Noel Kalicharan\"\n",
    "saldo_prom = 5550\n",
    "num_transacciones = 7\n",
    "```\n",
    "<font color=\"#FF5733\">Output</font>\n",
    "```python\n",
    "interes = 166.5\n",
    "cargo_servicio = 5.25\n",
    "```\n",
    "___"
   ]
  },
  {
   "cell_type": "code",
   "execution_count": 1,
   "id": "def0d32b",
   "metadata": {},
   "outputs": [
    {
     "name": "stdout",
     "output_type": "stream",
     "text": [
      "166.5\n",
      "5.25\n"
     ]
    }
   ],
   "source": [
    "# Definición inputs \n",
    "nombre = input(\"Digite el nombre: \")\n",
    "saldo_prom = int(input(\"Saldo Promedio del cliente: \"))\n",
    "num_transacciones = int(input(\"Número de transacciones del mes: \"))\n",
    "\n",
    "interes = 0.03 * saldo_prom\n",
    "cargo_servicio = 0.75 * num_transacciones\n",
    "print(interes)\n",
    "print(cargo_servicio)\n",
    "# Implementación fórmulas\n"
   ]
  },
  {
   "cell_type": "markdown",
   "id": "d63b0533",
   "metadata": {},
   "source": [
    "<a id=\"exercise4\"></a>\n",
    "## Ejercicio 4: Condicionales *If-Elseif-Else*\n",
    "\n",
    "### Punto 1\n",
    "\n",
    "Se tienen dos números definidos vía entrada por teclado, al igual que un operador matemático básico (i.e., `+`, `-`, `*`, `/`).\n",
    "\n",
    "<div class=\"alert alert-block alert-warning\">\n",
    "    \n",
    "Escriba un algoritmo que ejecute la operación matemática entre los dos números definidos vía entrada por teclado, y lo imprima en pantalla con la sintaxis:\n",
    "\n",
    "```python\n",
    "\"La <operación> entre <número 1> y <número 2> es <resultado>. \n",
    "```\n",
    "\n",
    "¿Cómo restrinje una división entre cero o una operación por un caracter diferente a un operador matemático?\n",
    "\n",
    "</div>\n",
    "\n",
    "___\n",
    "**Ejemplo 1** <br>\n",
    "<font color=\"#FF5733\">Input</font>\n",
    "```python\n",
    "num1 = 25\n",
    "num2 = 5\n",
    "oper = *\n",
    "```\n",
    "<font color=\"#FF5733\">Output</font>\n",
    "```julia\n",
    "\"La multiplicación entre 25 y 5 es 125.\"\n",
    "```\n",
    "\n",
    "**Ejemplo 2** <br>\n",
    "<font color=\"#FF5733\">Input</font>\n",
    "```python\n",
    "num1 = 12\n",
    "num2 = 0\n",
    "oper = /\n",
    "```\n",
    "<font color=\"#FF5733\">Output</font>\n",
    "```julia\n",
    "\"¡No se puede dividir entre 0!\"\n",
    "```\n",
    "\n",
    "**Ejemplo 3** <br>\n",
    "<font color=\"#FF5733\">Input</font>\n",
    "```python\n",
    "num1 = 3\n",
    "num2 = 7\n",
    "oper = x\n",
    "```\n",
    "<font color=\"#FF5733\">Output</font>\n",
    "```python\n",
    "\"ERROR: No seleccionó un operador correcto.\"\n",
    "```\n",
    "___"
   ]
  },
  {
   "cell_type": "code",
   "execution_count": 17,
   "id": "4f209ebc",
   "metadata": {},
   "outputs": [
    {
     "name": "stdout",
     "output_type": "stream",
     "text": [
      "El operador definido no es correcto\n"
     ]
    }
   ],
   "source": [
    "operador = input(\"Operador matemático: \")\n",
    "numero_1 = float(input(\"Número 1: \"))\n",
    "numero_2 = float(input(\"Número 2: \"))\n",
    "\n",
    "if operador == '+':\n",
    "    rta = numero_1 + numero_2\n",
    "    print(f\"La suma entre {numero_1} y {numero_2} es {rta}\")\n",
    "elif operador == \"/\":\n",
    "    if numero_2 == 0:\n",
    "        print(\"¡No se puede dividir entre 0!\")\n",
    "    else:\n",
    "        rta = numero_1/numero_2\n",
    "        print(f\"La división entre {numero_1} y {numero_2} es {rta}\")\n",
    "elif operador ==\"*\":\n",
    "    rta = numero_1 * numero_2\n",
    "    print(f\"La multiplicación entre {numero_1} y {numero_2} es {rta}\")\n",
    "\n",
    "else:\n",
    "    print(\"El operador definido no es correcto\")"
   ]
  },
  {
   "cell_type": "markdown",
   "id": "7c0c4860",
   "metadata": {},
   "source": [
    "### Punto 2\n",
    "\n",
    "<div class=\"alert alert-block alert-warning\">\n",
    "    \n",
    "Escriba un algoritmo que pida al usuario que ingrese una temperatura en grados Celsius. El programa debe imprimir un mensaje basado en la temperatura:\n",
    "    \n",
    "- Si la temperatura es inferior a -273,15, imprima: `La temperatura no es válida porque está por debajo del cero absoluto.`\n",
    "- Si es exactamente -273.15, imprima: `La temperatura es 0 absoluto.`\n",
    "- Si la temperatura está entre -273,15 y 0, imprima: `La temperatura está por debajo del punto de congelación.`\n",
    "- Si es 0, imprima: `La temperatura está en el punto de congelación.`\n",
    "- Si está entre 0 y 100, imprima: `La temperatura está en el rango normal.`\n",
    "- Si es 100, imprima: `La temperatura está en el punto de ebullición.`\n",
    "- Si es superior a 100, imprima: `La temperatura está por encima del punto de ebullición.`\n",
    "\n",
    "</div>\n",
    "\n",
    "___\n",
    "**Ejemplo 1** <br>\n",
    "<font color=\"#FF5733\">Input</font>\n",
    "```python\n",
    "temperatura = 30\n",
    "```\n",
    "<font color=\"#FF5733\">Output</font>\n",
    "```python\n",
    "\"La temperatura está en el rango normal.\"\n",
    "```\n",
    "\n",
    "**Ejemplo 2** <br>\n",
    "<font color=\"#FF5733\">Input</font>\n",
    "```python\n",
    "temperatura = 100.1\n",
    "```\n",
    "<font color=\"#FF5733\">Output</font>\n",
    "```python\n",
    "\"La temperatura está por encima del punto de ebullición.\"\n",
    "```\n",
    "___"
   ]
  },
  {
   "cell_type": "code",
   "execution_count": 20,
   "id": "ec85e2c9",
   "metadata": {},
   "outputs": [
    {
     "name": "stdout",
     "output_type": "stream",
     "text": [
      "La temperatura está por encima del punto de ebullición\n"
     ]
    }
   ],
   "source": [
    "temperatura = 100.1\n",
    "\n",
    "if temperatura < -273.15:\n",
    "    print(\"La temperatura no es válida porque está por debajo del cero absoluto.\")\n",
    "elif temperatura == -273.15:\n",
    "    print(\"La temperatura es 0\")\n",
    "elif -273.15<temperatura<0:\n",
    "    print(\"La temperatura está por debajo del punto de congelación.\")\n",
    "elif temperatura == 0:\n",
    "    print(\"La temperatura está en el punto de congelación\")\n",
    "elif 0<temperatura<100:\n",
    "    print(\"La temperatura está en el rango normal\")\n",
    "elif temperatura == 100:\n",
    "    print(\"La temperatura está en el punto de ebullición\")\n",
    "elif temperatura >100:\n",
    "    print(\"La temperatura está por encima del punto de ebullición\")"
   ]
  },
  {
   "cell_type": "markdown",
   "id": "59e5b54e",
   "metadata": {},
   "source": [
    "<a id=\"exercise5\"></a>\n",
    "## Ejercicio 5: Iteradores y Condicionales\n",
    "\n",
    "Se tienen el conjunto de información de los meses y la respectiva cantidad de días en una estructura `list`. \n",
    "\n",
    "<div class=\"alert alert-block alert-warning\">\n",
    "    \n",
    " <ol>\n",
    "  <li>Escriba un algoritmo que imprima un diccionario que contiene los nombres de los meses con menos de 31 días y el respectivo número de días.</li>\n",
    "  <li>Escriba un algoritmo que imprima una lista que contiene los nombres de los meses con menos de 31 días y el respectivo número de días.</li>\n",
    "</ol>\n",
    "</div>\n",
    "\n",
    "___\n",
    "**Ejemplo** <br>\n",
    "<font color=\"#FF5733\">Output</font>\n",
    "```python\n",
    "{'Febrero': 28,\n",
    " 'Abril': 30,\n",
    " 'Junio': 30,\n",
    " 'Septiembre': 30,\n",
    " 'Noviembre': 30}\n",
    "\n",
    "[\"Febrero - 28\", \"Abril - 30\", \"Junio - 30\", \"Septiembre - 30\", \"Noviembre - 30\"]\n",
    "```\n",
    "___"
   ]
  },
  {
   "cell_type": "code",
   "execution_count": 56,
   "id": "fdd3fdd8",
   "metadata": {},
   "outputs": [
    {
     "name": "stdout",
     "output_type": "stream",
     "text": [
      "{'Febrero': 28, 'Abril': 30, 'Junio': 30, 'Septiembre': 30, 'Noviembre': 30}\n",
      "['Febrero - 28', 'Abril - 30', 'Junio - 30', 'Septiembre - 30', 'Noviembre - 30']\n"
     ]
    }
   ],
   "source": [
    "meses = [\"Enero\", \"Febrero\", \"Marzo\", \"Abril\", \"Mayo\", \"Junio\", \"Julio\",\n",
    "         \"Agosto\", \"Septiembre\", \"Octubre\", \"Noviembre\", \"Diciembre\"]\n",
    "\n",
    "dias = [31, 28, 31, 30, 31, 30, 31, 31, 30, 31, 30, 31]\n",
    "\n",
    "dic ={}\n",
    "\n",
    "for i in range(0,len(meses)):\n",
    "    if dias[i] < 31:\n",
    "        dic[meses[i]]=dias[i]\n",
    "\n",
    "llaves = list(dic.keys())\n",
    "meses_valores = list(dic.values())\n",
    "\n",
    "lista = []\n",
    "for i in range(0,len(dic)):\n",
    "    lista.append(llaves[i] + \" - \" +str(meses_valores[i]))\n",
    "print(dic)\n",
    "print(lista)"
   ]
  },
  {
   "cell_type": "markdown",
   "id": "519fbddc",
   "metadata": {},
   "source": [
    "<a id=\"exercise6\"></a>\n",
    "## Ejercicio 6: Funciones\n",
    "\n",
    "### Punto 1\n",
    "\n",
    "Se busca preparar la nómina de una pequeña empresa. Los datos suministrados son el número de horas trabajadas (`num_horas`) y la tasa de pago (`tasa_pago`). Para esto, se tienen las siguientes condiciones:\n",
    "\n",
    "- Si `num_horas` es menor o igual a 40, calculamos el pago regular (`pago_regular`) multiplicando `num_horas` por `tasa_pago`, y el pago de horas extras (`pago_extras`) es igual a 0.\n",
    "\n",
    "\n",
    "- Si `num_horas` es mayor a 40, calculamos el pago regular multiplicando 40 por `tasa_pago` y el pago de horas extras así: $(num\\_horas - 40) · tasa\\_pago · 1.5$. \n",
    "\n",
    "El salario neto (`neto`) se calcula sumando el pago regular (`pago_regular`) y el pago de horas extras (`pago_extras`).\n",
    "\n",
    "<div class=\"alert alert-block alert-warning\">\n",
    "    \n",
    "Escriba un algoritmo que permita calcular el pago de nómina de la pequeña empresa.\n",
    "\n",
    "</div>\n",
    "\n",
    "___\n",
    "**Ejemplo** <br>\n",
    "<font color=\"#FF5733\">Input</font>\n",
    "```python\n",
    "horas_trabajadas = 30\n",
    "pago_por_hora = 25\n",
    "```\n",
    "<font color=\"#FF5733\">Output</font>\n",
    "```python\n",
    "neto = 750\n",
    "```\n",
    "___"
   ]
  },
  {
   "cell_type": "code",
   "execution_count": 3,
   "id": "63f880e5",
   "metadata": {},
   "outputs": [
    {
     "name": "stdout",
     "output_type": "stream",
     "text": [
      "750\n"
     ]
    }
   ],
   "source": [
    "def salario(num_horas:int,tasa_pago:float):\n",
    "    if num_horas>40:\n",
    "        horas_xtra=num_horas-40\n",
    "        neto = horas_xtra*tasa_pago*1.5\n",
    "        return neto\n",
    "    else:\n",
    "        neto = num_horas*tasa_pago\n",
    "        return neto\n",
    "print(salario(30,25))"
   ]
  },
  {
   "cell_type": "markdown",
   "id": "906ddb6c",
   "metadata": {},
   "source": [
    "### Punto 2\n",
    "\n",
    "<div class=\"alert alert-block alert-warning\">\n",
    "\n",
    "Cree una función `func` que reciba de entrada la función `f` (definida a continuación) y cuatro números como parámetros. Esta función `func` debe ejecutar la función `f` dos veces (la primera con los dos primeros números, y la última con los dos números finales). Con los dos resultados (i.e., al ejecutar dos veces y por separado la función `f`), calcular la **raíz de la suma de los cuadrados**. Este valor se debe imprimir en pantalla (i.e., `print()`) y retornar (i.e., `return`).\n",
    "\n",
    "</div>\n",
    "\n",
    "```python\n",
    "def f(x, y):\n",
    "    return x + y    \n",
    "```\n",
    "\n",
    "___\n",
    "**Ejemplo** <br>\n",
    "<font color=\"#FF5733\">Input</font>\n",
    "```python\n",
    "num_1 = 1\n",
    "num_2 = 2\n",
    "num_3 = 3\n",
    "num_4 = 4\n",
    "```\n",
    "<font color=\"#FF5733\">Output</font>\n",
    "```python\n",
    "rta = 7.615773105863909\n",
    "```\n",
    "___\n"
   ]
  },
  {
   "cell_type": "code",
   "execution_count": 59,
   "id": "05e2dd45",
   "metadata": {},
   "outputs": [
    {
     "name": "stdout",
     "output_type": "stream",
     "text": [
      "7.615773105863909\n"
     ]
    }
   ],
   "source": [
    "import math\n",
    "import numpy as np\n",
    "\n",
    "def f(x:int, y:int) -> int:\n",
    "    return x + y\n",
    "    \n",
    "num_1 = 1\n",
    "num_2 = 2\n",
    "num_3 = 3\n",
    "num_4 = 4\n",
    "\n",
    "def funcion(num_1,num_2,num_3,num_4):\n",
    "    n1 = f(num_1,num_2)\n",
    "    n2 = f(num_3,num_4)\n",
    "    n3 = math.sqrt(n1**2+n2**2)\n",
    "    return n3\n",
    "\n",
    "print(funcion(num_1,num_2,num_3,num_4))"
   ]
  }
 ],
 "metadata": {
  "kernelspec": {
   "display_name": "base",
   "language": "python",
   "name": "python3"
  },
  "language_info": {
   "codemirror_mode": {
    "name": "ipython",
    "version": 3
   },
   "file_extension": ".py",
   "mimetype": "text/x-python",
   "name": "python",
   "nbconvert_exporter": "python",
   "pygments_lexer": "ipython3",
   "version": "3.9.13"
  },
  "vscode": {
   "interpreter": {
    "hash": "ad2bdc8ecc057115af97d19610ffacc2b4e99fae6737bb82f5d7fb13d2f2c186"
   }
  }
 },
 "nbformat": 4,
 "nbformat_minor": 5
}
